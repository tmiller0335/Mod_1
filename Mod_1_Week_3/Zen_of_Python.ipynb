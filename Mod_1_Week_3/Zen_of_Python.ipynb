{
 "cells": [
  {
   "cell_type": "code",
   "execution_count": null,
   "id": "7001f571",
   "metadata": {},
   "outputs": [],
   "source": [
    "import this\n"
   ]
  },
  {
   "cell_type": "code",
   "execution_count": null,
   "id": "ce16ab96",
   "metadata": {},
   "outputs": [],
   "source": [
    "#Beautiful\n",
    "def greet(name):\n",
    "    return f\"Hello, {name}!\"\n",
    "#Ugly\n",
    "def greet(name):\n",
    "    print(\"Hello \"+ name)"
   ]
  },
  {
   "cell_type": "code",
   "execution_count": null,
   "id": "980d7e33",
   "metadata": {},
   "outputs": [],
   "source": [
    "#Explicit\n",
    "def add(a, b):\n",
    "    return a + b\n",
    "#Implicit (bad idea)\n",
    "def add(a, b, operation=\"sum\"):\n",
    "    if operation == \"sum\":\n",
    "        return a + b\n",
    "    else:\n",
    "        return a * b"
   ]
  },
  {
   "cell_type": "code",
   "execution_count": null,
   "id": "23999b25",
   "metadata": {},
   "outputs": [],
   "source": [
    "#Simple\n",
    "def square(x):\n",
    "    return x * x\n",
    "#Complex\n",
    "def square(x):\n",
    "    result = 0\n",
    "    for i in range(x):\n",
    "        result += x\n",
    "    return result"
   ]
  },
  {
   "cell_type": "code",
   "execution_count": null,
   "id": "0e7dddaf",
   "metadata": {},
   "outputs": [],
   "source": [
    "#Complex, but clear\n",
    "def get_factorial(n):\n",
    "    if n == 0:\n",
    "        return 1\n",
    "    else:\n",
    "        return n * get_factorial(n-1)\n",
    "#Complicated\n",
    "def get_factorial(n):\n",
    "    result = 1\n",
    "    for i in range(n, 0, -1):\n",
    "        result *= i\n",
    "    return result"
   ]
  },
  {
   "cell_type": "code",
   "execution_count": 1,
   "id": "177b44cb",
   "metadata": {},
   "outputs": [
    {
     "ename": "NameError",
     "evalue": "name 'condition' is not defined",
     "output_type": "error",
     "traceback": [
      "\u001b[31m---------------------------------------------------------------------------\u001b[39m",
      "\u001b[31mNameError\u001b[39m                                 Traceback (most recent call last)",
      "\u001b[36mCell\u001b[39m\u001b[36m \u001b[39m\u001b[32mIn[1]\u001b[39m\u001b[32m, line 2\u001b[39m\n\u001b[32m      1\u001b[39m \u001b[38;5;66;03m#Flat\u001b[39;00m\n\u001b[32m----> \u001b[39m\u001b[32m2\u001b[39m \u001b[38;5;28;01mif\u001b[39;00m \u001b[43mcondition\u001b[49m:\n\u001b[32m      3\u001b[39m     process_data()\n\u001b[32m      4\u001b[39m \u001b[38;5;66;03m#Nested (less readable)\u001b[39;00m\n",
      "\u001b[31mNameError\u001b[39m: name 'condition' is not defined"
     ]
    }
   ],
   "source": [
    "#Flat\n",
    "if condition:\n",
    "    process_data()\n",
    "#Nested (less readable)\n",
    "if condition:\n",
    "    if another_condition:\n",
    "        process_data()"
   ]
  },
  {
   "cell_type": "code",
   "execution_count": null,
   "id": "cb9d732f",
   "metadata": {},
   "outputs": [],
   "source": [
    "#Sparse\n",
    "x = 5\n",
    "y = 10\n",
    "z = x + y\n",
    "\n",
    "#Dense (harder to read)\n",
    "x=5;y=10;z=x+y"
   ]
  },
  {
   "cell_type": "code",
   "execution_count": null,
   "id": "83e370a2",
   "metadata": {},
   "outputs": [],
   "source": [
    "#Readable\n",
    "def calculate_area(radius):\n",
    "    return 3.14159 * radius * radius\n",
    "#Not readable\n",
    "def calc(r):\n",
    "    return 3.14159 * r * r"
   ]
  },
  {
   "cell_type": "code",
   "execution_count": 2,
   "id": "5ae2148f",
   "metadata": {},
   "outputs": [],
   "source": [
    "#Following the rule\n",
    "def divide(a, b):\n",
    "    if b == 0:\n",
    "        raise ValueError(\"Cannot divide by zero\")\n",
    "    return a / b\n",
    "\n",
    "#Breaking the rule (to handle division by zero in a special case)\n",
    "def divide(a, b):\n",
    "    if b == 0:\n",
    "        return 0 # Not following the rules\n",
    "    return a / b"
   ]
  },
  {
   "cell_type": "code",
   "execution_count": 3,
   "id": "1bd25f09",
   "metadata": {},
   "outputs": [
    {
     "ename": "ValueError",
     "evalue": "invalid literal for int() with base 10: 'apple'",
     "output_type": "error",
     "traceback": [
      "\u001b[31m---------------------------------------------------------------------------\u001b[39m",
      "\u001b[31mValueError\u001b[39m                                Traceback (most recent call last)",
      "\u001b[36mCell\u001b[39m\u001b[36m \u001b[39m\u001b[32mIn[3]\u001b[39m\u001b[32m, line 1\u001b[39m\n\u001b[32m----> \u001b[39m\u001b[32m1\u001b[39m value = \u001b[38;5;28;43mint\u001b[39;49m\u001b[43m(\u001b[49m\u001b[33;43m\"\u001b[39;49m\u001b[33;43mapple\u001b[39;49m\u001b[33;43m\"\u001b[39;49m\u001b[43m)\u001b[49m\n",
      "\u001b[31mValueError\u001b[39m: invalid literal for int() with base 10: 'apple'"
     ]
    }
   ],
   "source": [
    "value = int(\"apple\")"
   ]
  }
 ],
 "metadata": {
  "kernelspec": {
   "display_name": "Python 3",
   "language": "python",
   "name": "python3"
  },
  "language_info": {
   "codemirror_mode": {
    "name": "ipython",
    "version": 3
   },
   "file_extension": ".py",
   "mimetype": "text/x-python",
   "name": "python",
   "nbconvert_exporter": "python",
   "pygments_lexer": "ipython3",
   "version": "3.13.4"
  }
 },
 "nbformat": 4,
 "nbformat_minor": 5
}
